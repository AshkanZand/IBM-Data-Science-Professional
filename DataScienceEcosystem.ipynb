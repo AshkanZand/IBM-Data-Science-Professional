{
 "cells": [
  {
   "cell_type": "markdown",
   "id": "4ef8116c-eee9-4b6b-92b2-28881198ddb1",
   "metadata": {},
   "source": [
    "# Data Science Tools and Ecosystem"
   ]
  },
  {
   "cell_type": "markdown",
   "id": "8dff90c9-1626-42d4-ad7e-c794f835a65d",
   "metadata": {},
   "source": [
    "In this notebook, Data Science Tools and Ecosystem are summarized."
   ]
  },
  {
   "cell_type": "markdown",
   "id": "c463cf1d-f3d6-435d-8643-d0a571ec0e24",
   "metadata": {},
   "source": [
    "**Objectives:**\n",
    "* List popular languages for Data Science\n",
    "* List libraries used by Data Scientists\n",
    "* Performing a simple arithmetic expression"
   ]
  },
  {
   "cell_type": "markdown",
   "id": "0f8737d3-1031-4c0e-93dd-e819f50e583c",
   "metadata": {},
   "source": [
    "Some of the popular languages that Data Scientists use are:\n",
    "\n",
    "1. Python\n",
    "2. R statistical language\n",
    "3. Julia"
   ]
  },
  {
   "cell_type": "markdown",
   "id": "69a14bef-0516-4534-8bed-99c27f464883",
   "metadata": {},
   "source": [
    "Some of the commonly used libraries used by Data Scientists include:\n",
    "1. NumPy\n",
    "2. Matplotlib\n",
    "3. Pandas"
   ]
  },
  {
   "cell_type": "markdown",
   "id": "8656bfe6-e861-4297-821e-5e5803eb441d",
   "metadata": {},
   "source": [
    "|Data Science Tools|\n",
    "--------------------\n",
    "Jupyter Lab\n",
    "Jupzter Notebooks\n",
    "RStudio"
   ]
  },
  {
   "cell_type": "markdown",
   "id": "d1510e52-1ad6-48b5-82db-3f6c2f5c7c5f",
   "metadata": {},
   "source": [
    "### Below are a few examples of evaluating arithmetic expressions in Python"
   ]
  },
  {
   "cell_type": "markdown",
   "id": "bd8d7aa3-3d64-409b-a1d3-a5181f46002d",
   "metadata": {},
   "source": [
    "This a simple arithmetic expression to mutiply then add integers:"
   ]
  },
  {
   "cell_type": "code",
   "execution_count": 3,
   "id": "ea16c376-f981-4b84-a8e9-fa925ae27401",
   "metadata": {},
   "outputs": [
    {
     "data": {
      "text/plain": [
       "17"
      ]
     },
     "execution_count": 3,
     "metadata": {},
     "output_type": "execute_result"
    }
   ],
   "source": [
    "(3*4)+5"
   ]
  },
  {
   "cell_type": "markdown",
   "id": "a40bcecf-b180-4033-b2e1-8dac438ec92b",
   "metadata": {},
   "source": [
    "This will convert 200 minutes to hours by diving by 60."
   ]
  },
  {
   "cell_type": "code",
   "execution_count": 4,
   "id": "ab648ed5-00d7-463c-a34b-f57bbe7ede3a",
   "metadata": {},
   "outputs": [
    {
     "data": {
      "text/plain": [
       "3.3333333333333335"
      ]
     },
     "execution_count": 4,
     "metadata": {},
     "output_type": "execute_result"
    }
   ],
   "source": [
    "200/60"
   ]
  },
  {
   "cell_type": "markdown",
   "id": "132c8710-598c-4346-a224-c0e6e239fb03",
   "metadata": {},
   "source": [
    "## Author\n",
    "Ashkan Zand"
   ]
  },
  {
   "cell_type": "code",
   "execution_count": null,
   "id": "5507d0f1-4f69-49f7-92ba-5bcf9b01ae24",
   "metadata": {},
   "outputs": [],
   "source": []
  }
 ],
 "metadata": {
  "kernelspec": {
   "display_name": "Python 3 (ipykernel)",
   "language": "python",
   "name": "python3"
  },
  "language_info": {
   "codemirror_mode": {
    "name": "ipython",
    "version": 3
   },
   "file_extension": ".py",
   "mimetype": "text/x-python",
   "name": "python",
   "nbconvert_exporter": "python",
   "pygments_lexer": "ipython3",
   "version": "3.11.9"
  }
 },
 "nbformat": 4,
 "nbformat_minor": 5
}
